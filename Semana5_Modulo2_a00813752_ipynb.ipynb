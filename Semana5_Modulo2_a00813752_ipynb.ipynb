{
  "nbformat": 4,
  "nbformat_minor": 0,
  "metadata": {
    "colab": {
      "provenance": [],
      "authorship_tag": "ABX9TyNDTn7zDZVyJAsvHBMgAx/k",
      "include_colab_link": true
    },
    "kernelspec": {
      "name": "python3",
      "display_name": "Python 3"
    },
    "language_info": {
      "name": "python"
    }
  },
  "cells": [
    {
      "cell_type": "markdown",
      "metadata": {
        "id": "view-in-github",
        "colab_type": "text"
      },
      "source": [
        "<a href=\"https://colab.research.google.com/github/YvTur/Hackathon_Agrotech_Saltillo/blob/master/Semana5_Modulo2_a00813752_ipynb.ipynb\" target=\"_parent\"><img src=\"https://colab.research.google.com/assets/colab-badge.svg\" alt=\"Open In Colab\"/></a>"
      ]
    },
    {
      "cell_type": "markdown",
      "source": [
        "# Data Analysis with python"
      ],
      "metadata": {
        "id": "98HZU7PKjK3L"
      }
    },
    {
      "cell_type": "markdown",
      "source": [
        "## Module 2 - Data Wrangling"
      ],
      "metadata": {
        "id": "LXGcouXhjPCt"
      }
    },
    {
      "cell_type": "markdown",
      "source": [
        "###Data pre-procesing\n",
        "\n",
        "**Objectives:**\n",
        "\n",
        "-identify and handle missing values\n",
        "\n",
        "-Data Formating\n",
        "\n",
        "-Data normalization"
      ],
      "metadata": {
        "id": "UOPCKlr0jYYA"
      }
    },
    {
      "cell_type": "code",
      "source": [
        "#We first call the pandas library\n",
        "import pandas as pd\n",
        "#Note for future Yves, when calling a csv on colab, \n",
        "#call it from github and call the raw material\n",
        "url=\"https://raw.githubusercontent.com/PosgradoMNA/actividades-de-aprendizaje-YvTur/main/Data%20Analysis/autos_imports-85.csv\"\n",
        "#We call the url of the CSV\n",
        "df =pd.read_csv(url)  "
      ],
      "metadata": {
        "id": "a32dBa8mjLTk"
      },
      "execution_count": null,
      "outputs": []
    },
    {
      "cell_type": "code",
      "source": [
        "#how to deal with missing data?"
      ],
      "metadata": {
        "id": "GyAglRppjV9x"
      },
      "execution_count": null,
      "outputs": []
    }
  ]
}